{
 "cells": [
  {
   "cell_type": "code",
   "execution_count": 1,
   "metadata": {},
   "outputs": [],
   "source": [
    "from dataclasses import dataclass, fields"
   ]
  },
  {
   "cell_type": "code",
   "execution_count": 2,
   "metadata": {},
   "outputs": [],
   "source": [
    "from pathlib import Path\n",
    "import torch\n",
    "\n",
    "class BaseConfig:\n",
    "    def to_dict(self):\n",
    "        \"\"\"\n",
    "        A json serializable dict representation of the dataclass.\n",
    "        Some types are converted to str for json serialization.\n",
    "        \"\"\"\n",
    "        result = {}\n",
    "        for f in fields(self):\n",
    "            value = getattr(self, f.name)\n",
    "            if isinstance(value, Path):\n",
    "                value = str(value)\n",
    "            elif isinstance(value, torch.device):\n",
    "                value = str(value)\n",
    "            # elif isinstance(value, (ModelConfig, TrainConfig, RunConfig)):\n",
    "            #     value = value.to_dict()\n",
    "            result[f.name] = value\n",
    "        return result\n"
   ]
  },
  {
   "cell_type": "code",
   "execution_count": 3,
   "metadata": {},
   "outputs": [],
   "source": [
    "@dataclass\n",
    "class ModelConfig(BaseConfig):\n",
    "    seq_len: int = None\n",
    "    d_model: int = None\n",
    "    n_layers: int = None\n",
    "    heads: int = None"
   ]
  },
  {
   "cell_type": "code",
   "execution_count": 4,
   "metadata": {},
   "outputs": [
    {
     "name": "stdout",
     "output_type": "stream",
     "text": [
      "ModelConfig(seq_len=100, d_model=512, n_layers=6, heads=8)\n",
      "---\n",
      "{'seq_len': 100, 'd_model': 512, 'n_layers': 6, 'heads': 8}\n"
     ]
    }
   ],
   "source": [
    "mc = ModelConfig(seq_len=100, d_model=512, n_layers=6, heads=8)\n",
    "print(mc)\n",
    "print(\"---\")\n",
    "d = mc.to_dict()\n",
    "print(d)"
   ]
  },
  {
   "cell_type": "code",
   "execution_count": 8,
   "metadata": {},
   "outputs": [],
   "source": [
    "mc2 = ModelConfig(**d)"
   ]
  },
  {
   "cell_type": "code",
   "execution_count": 9,
   "metadata": {},
   "outputs": [
    {
     "name": "stdout",
     "output_type": "stream",
     "text": [
      "ModelConfig(seq_len=100, d_model=512, n_layers=6, heads=8)\n",
      "---\n",
      "{'seq_len': 100, 'd_model': 512, 'n_layers': 6, 'heads': 8}\n"
     ]
    }
   ],
   "source": [
    "print(mc2)\n",
    "print(\"---\")\n",
    "print(mc2.to_dict())"
   ]
  },
  {
   "cell_type": "code",
   "execution_count": 13,
   "metadata": {},
   "outputs": [
    {
     "name": "stdout",
     "output_type": "stream",
     "text": [
      "RunConfig(base_dir=PosixPath('/Users/ron/dev/torch/medium/movies'), run_id='123', parallel_mode='ddp', dist_master_addr='127.0.0.1', dist_master_port=1234, dist_backend='nccl', wandb=False, compile=False, async_to_device=False, fused_adamw=False, datasets_dir='/Users/ron/dev/torch/medium/movies/datasets', run_dir=PosixPath('/Users/ron/dev/torch/medium/movies/runs/run123'), logs_dir=PosixPath('/Users/ron/dev/torch/medium/movies/runs/run123/logs'), checkpoints_dir=PosixPath('/Users/ron/dev/torch/medium/movies/runs/run123/checkpoints'), local_rank=None, device=None, is_primary=True, case='movies')\n",
      "---\n",
      "{'base_dir': '/Users/ron/dev/torch/medium/movies', 'run_id': '123', 'parallel_mode': 'ddp', 'dist_master_addr': '127.0.0.1', 'dist_master_port': 1234, 'dist_backend': 'nccl', 'wandb': False, 'compile': False, 'async_to_device': False, 'fused_adamw': False, 'datasets_dir': '/Users/ron/dev/torch/medium/movies/datasets', 'run_dir': '/Users/ron/dev/torch/medium/movies/runs/run123', 'logs_dir': '/Users/ron/dev/torch/medium/movies/runs/run123/logs', 'checkpoints_dir': '/Users/ron/dev/torch/medium/movies/runs/run123/checkpoints', 'local_rank': None, 'device': None, 'is_primary': True, 'case': 'movies'}\n",
      "RunConfig(base_dir=PosixPath('/Users/ron/dev/torch/medium/movies'), run_id='123', parallel_mode='ddp', dist_master_addr='127.0.0.1', dist_master_port=1234, dist_backend='nccl', wandb=False, compile=False, async_to_device=False, fused_adamw=False, datasets_dir='/Users/ron/dev/torch/medium/movies/datasets', run_dir=PosixPath('/Users/ron/dev/torch/medium/movies/runs/run123'), logs_dir=PosixPath('/Users/ron/dev/torch/medium/movies/runs/run123/logs'), checkpoints_dir=PosixPath('/Users/ron/dev/torch/medium/movies/runs/run123/checkpoints'), local_rank=None, device=None, is_primary=True, case='movies')\n",
      "---\n",
      "{'base_dir': '/Users/ron/dev/torch/medium/movies', 'run_id': '123', 'parallel_mode': 'ddp', 'dist_master_addr': '127.0.0.1', 'dist_master_port': 1234, 'dist_backend': 'nccl', 'wandb': False, 'compile': False, 'async_to_device': False, 'fused_adamw': False, 'datasets_dir': '/Users/ron/dev/torch/medium/movies/datasets', 'run_dir': '/Users/ron/dev/torch/medium/movies/runs/run123', 'logs_dir': '/Users/ron/dev/torch/medium/movies/runs/run123/logs', 'checkpoints_dir': '/Users/ron/dev/torch/medium/movies/runs/run123/checkpoints', 'local_rank': None, 'device': None, 'is_primary': True, 'case': 'movies'}\n",
      "---\n",
      "True\n"
     ]
    }
   ],
   "source": [
    "from utils.config import RunConfig\n",
    "base_dir = \"/Users/ron/dev/torch/medium/movies\"\n",
    "dataset_dir = base_dir + \"/datasets\"\n",
    "rc = RunConfig(base_dir=base_dir, datasets_dir=dataset_dir, run_id=\"123\", parallel_mode=\"ddp\", wandb=False, compile=False,\n",
    "               dist_master_addr=\"127.0.0.1\", dist_master_port=1234, dist_backend=\"nccl\",\n",
    "               async_to_device=False, fused_adamw=False, case=\"movies\")\n",
    "print(rc)\n",
    "print(\"---\")\n",
    "d = rc.to_dict()\n",
    "print(d)\n",
    "rc2 = RunConfig(**d)\n",
    "print(rc2)\n",
    "print(\"---\")\n",
    "print(rc2.to_dict())\n",
    "print(\"---\")\n",
    "print(rc2 == rc)"
   ]
  },
  {
   "cell_type": "code",
   "execution_count": 15,
   "metadata": {},
   "outputs": [
    {
     "name": "stdout",
     "output_type": "stream",
     "text": [
      "Config(model=ModelConfig(seq_len=100, d_model=512, n_layers=6, heads=8), run=RunConfig(base_dir=PosixPath('/Users/ron/dev/torch/medium/movies'), run_id='123', parallel_mode='ddp', dist_master_addr='127.0.0.1', dist_master_port=1234, dist_backend='nccl', wandb=False, compile=False, async_to_device=False, fused_adamw=False, datasets_dir='/Users/ron/dev/torch/medium/movies/datasets', run_dir=PosixPath('/Users/ron/dev/torch/medium/movies/runs/run123'), logs_dir=PosixPath('/Users/ron/dev/torch/medium/movies/runs/run123/logs'), checkpoints_dir=PosixPath('/Users/ron/dev/torch/medium/movies/runs/run123/checkpoints'), local_rank=None, device=None, is_primary=True, case='movies'))\n",
      "---\n",
      "{'model': ModelConfig(seq_len=100, d_model=512, n_layers=6, heads=8), 'run': RunConfig(base_dir=PosixPath('/Users/ron/dev/torch/medium/movies'), run_id='123', parallel_mode='ddp', dist_master_addr='127.0.0.1', dist_master_port=1234, dist_backend='nccl', wandb=False, compile=False, async_to_device=False, fused_adamw=False, datasets_dir='/Users/ron/dev/torch/medium/movies/datasets', run_dir=PosixPath('/Users/ron/dev/torch/medium/movies/runs/run123'), logs_dir=PosixPath('/Users/ron/dev/torch/medium/movies/runs/run123/logs'), checkpoints_dir=PosixPath('/Users/ron/dev/torch/medium/movies/runs/run123/checkpoints'), local_rank=None, device=None, is_primary=True, case='movies')}\n",
      "Config(model=ModelConfig(seq_len=100, d_model=512, n_layers=6, heads=8), run=RunConfig(base_dir=PosixPath('/Users/ron/dev/torch/medium/movies'), run_id='123', parallel_mode='ddp', dist_master_addr='127.0.0.1', dist_master_port=1234, dist_backend='nccl', wandb=False, compile=False, async_to_device=False, fused_adamw=False, datasets_dir='/Users/ron/dev/torch/medium/movies/datasets', run_dir=PosixPath('/Users/ron/dev/torch/medium/movies/runs/run123'), logs_dir=PosixPath('/Users/ron/dev/torch/medium/movies/runs/run123/logs'), checkpoints_dir=PosixPath('/Users/ron/dev/torch/medium/movies/runs/run123/checkpoints'), local_rank=None, device=None, is_primary=True, case='movies'))\n",
      "---\n",
      "{'model': ModelConfig(seq_len=100, d_model=512, n_layers=6, heads=8), 'run': RunConfig(base_dir=PosixPath('/Users/ron/dev/torch/medium/movies'), run_id='123', parallel_mode='ddp', dist_master_addr='127.0.0.1', dist_master_port=1234, dist_backend='nccl', wandb=False, compile=False, async_to_device=False, fused_adamw=False, datasets_dir='/Users/ron/dev/torch/medium/movies/datasets', run_dir=PosixPath('/Users/ron/dev/torch/medium/movies/runs/run123'), logs_dir=PosixPath('/Users/ron/dev/torch/medium/movies/runs/run123/logs'), checkpoints_dir=PosixPath('/Users/ron/dev/torch/medium/movies/runs/run123/checkpoints'), local_rank=None, device=None, is_primary=True, case='movies')}\n",
      "---\n",
      "True\n"
     ]
    }
   ],
   "source": [
    "@dataclass\n",
    "class Config(BaseConfig):\n",
    "    model: ModelConfig\n",
    "    run: RunConfig\n",
    "\n",
    "c = Config(model=mc, run=rc)\n",
    "print(c)\n",
    "print(\"---\")\n",
    "d = c.to_dict()\n",
    "print(d)\n",
    "c2 = Config(**d)\n",
    "print(c2)\n",
    "print(\"---\")\n",
    "print(c2.to_dict())\n",
    "print(\"---\")\n",
    "print(c2 == c)\n"
   ]
  },
  {
   "cell_type": "code",
   "execution_count": null,
   "metadata": {},
   "outputs": [],
   "source": []
  }
 ],
 "metadata": {
  "kernelspec": {
   "display_name": "venv",
   "language": "python",
   "name": "python3"
  },
  "language_info": {
   "codemirror_mode": {
    "name": "ipython",
    "version": 3
   },
   "file_extension": ".py",
   "mimetype": "text/x-python",
   "name": "python",
   "nbconvert_exporter": "python",
   "pygments_lexer": "ipython3",
   "version": "3.12.3"
  }
 },
 "nbformat": 4,
 "nbformat_minor": 2
}
